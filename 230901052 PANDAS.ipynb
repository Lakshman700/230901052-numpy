{
 "cells": [
  {
   "cell_type": "code",
   "execution_count": 11,
   "id": "afdcabb0-a2cd-4141-be28-967e2cd3a966",
   "metadata": {},
   "outputs": [
    {
     "name": "stdout",
     "output_type": "stream",
     "text": [
      "Empty DataFrame\n",
      "Columns: []\n",
      "Index: []\n"
     ]
    }
   ],
   "source": [
    "import pandas as pd\n",
    "df=pd.DataFrame()\n",
    "print(df)\n"
   ]
  },
  {
   "cell_type": "code",
   "execution_count": 15,
   "id": "040f6237-98db-4046-b92f-d2bc7fd159ce",
   "metadata": {},
   "outputs": [
    {
     "name": "stdout",
     "output_type": "stream",
     "text": [
      "\n",
      " Series to data frame\n",
      "\n",
      "      Emp  ID\n",
      "0     Uma  10\n",
      "1    Siva  20\n",
      "2  Sindhu  30\n",
      "3    Ravi  40\n"
     ]
    }
   ],
   "source": [
    "emp=pd.Series(['Uma','Siva','Sindhu','Ravi'])\n",
    "id=pd.Series([10,20,30,40])\n",
    "frame={'Emp':emp,'ID':id}\n",
    "result=pd.DataFrame(frame)\n",
    "print(\"\\n Series to data frame\\n\")\n",
    "print(result)"
   ]
  },
  {
   "cell_type": "code",
   "execution_count": 19,
   "id": "6b3b9198-77fd-419b-b36e-967349bbb6b4",
   "metadata": {},
   "outputs": [
    {
     "name": "stdout",
     "output_type": "stream",
     "text": [
      "\n",
      " Extracting One Column \n",
      "\n",
      "0    10\n",
      "1    20\n",
      "2    30\n",
      "3    40\n",
      "Name: ID, dtype: int64\n"
     ]
    }
   ],
   "source": [
    "print(\"\\n Extracting One Column \\n\")\n",
    "print(result['ID'])"
   ]
  },
  {
   "cell_type": "code",
   "execution_count": 21,
   "id": "0efe1560-58eb-4a61-a3e3-12a7bbcf6b94",
   "metadata": {},
   "outputs": [
    {
     "name": "stdout",
     "output_type": "stream",
     "text": [
      "      Emp  ID  Age\n",
      "0     Uma  10   20\n",
      "1    Siva  20   25\n",
      "2  Sindhu  30   30\n",
      "3    Ravi  40   50\n"
     ]
    }
   ],
   "source": [
    "result['Age']=pd.Series([20,25,30,50])\n",
    "print(result)"
   ]
  },
  {
   "cell_type": "code",
   "execution_count": null,
   "id": "79fbcfec-15d1-40b9-be41-5ae7b1040d33",
   "metadata": {},
   "outputs": [],
   "source": []
  },
  {
   "cell_type": "code",
   "execution_count": 29,
   "id": "4915d4b5-b43b-4c3c-baba-7778d5d6621f",
   "metadata": {},
   "outputs": [
    {
     "name": "stdout",
     "output_type": "stream",
     "text": [
      "Extracting the Second Row \n",
      "\n",
      "Emp    Siva\n",
      "ID       20\n",
      "Name: 1, dtype: object\n"
     ]
    }
   ],
   "source": [
    "print(\"Extracting the Second Row \\n\")\n",
    "print(result.loc[1])"
   ]
  },
  {
   "cell_type": "raw",
   "id": "489e03fa-87f5-4914-83d4-8d9b6cc73515",
   "metadata": {},
   "source": []
  },
  {
   "cell_type": "code",
   "execution_count": 31,
   "id": "6ff9b5a8-0f30-4b8f-b052-61ecc9dfa579",
   "metadata": {},
   "outputs": [
    {
     "name": "stdout",
     "output_type": "stream",
     "text": [
      "slice rows\n",
      "\n"
     ]
    },
    {
     "data": {
      "text/html": [
       "<div>\n",
       "<style scoped>\n",
       "    .dataframe tbody tr th:only-of-type {\n",
       "        vertical-align: middle;\n",
       "    }\n",
       "\n",
       "    .dataframe tbody tr th {\n",
       "        vertical-align: top;\n",
       "    }\n",
       "\n",
       "    .dataframe thead th {\n",
       "        text-align: right;\n",
       "    }\n",
       "</style>\n",
       "<table border=\"1\" class=\"dataframe\">\n",
       "  <thead>\n",
       "    <tr style=\"text-align: right;\">\n",
       "      <th></th>\n",
       "      <th>Emp</th>\n",
       "      <th>ID</th>\n",
       "    </tr>\n",
       "  </thead>\n",
       "  <tbody>\n",
       "    <tr>\n",
       "      <th>1</th>\n",
       "      <td>Siva</td>\n",
       "      <td>20</td>\n",
       "    </tr>\n",
       "    <tr>\n",
       "      <th>2</th>\n",
       "      <td>Sindhu</td>\n",
       "      <td>30</td>\n",
       "    </tr>\n",
       "  </tbody>\n",
       "</table>\n",
       "</div>"
      ],
      "text/plain": [
       "      Emp  ID\n",
       "1    Siva  20\n",
       "2  Sindhu  30"
      ]
     },
     "execution_count": 31,
     "metadata": {},
     "output_type": "execute_result"
    }
   ],
   "source": [
    "#slicing:\n",
    "print(\"slice rows\\n\")\n",
    "result[1:3]"
   ]
  },
  {
   "cell_type": "code",
   "execution_count": 43,
   "id": "5c19e7da-9e0b-46a5-bab3-79b6f91cfa90",
   "metadata": {},
   "outputs": [
    {
     "name": "stdout",
     "output_type": "stream",
     "text": [
      "\n",
      "Adding new row values\n",
      "       Emp  ID\n",
      "0     Uma  10\n",
      "1    Siva  20\n",
      "2  Sindhu  30\n",
      "3    Ravi  40\n",
      "0     Anu  20\n",
      "1     Joe  19\n"
     ]
    }
   ],
   "source": [
    "#concatination:\n",
    "a2=pd.DataFrame([['Anu',20],['Joe',19]],columns=['Emp','ID'])\n",
    "print(\"\\nAdding new row values\\n\",pd.concat([result,a2]))"
   ]
  },
  {
   "cell_type": "code",
   "execution_count": 49,
   "id": "1da0ab09-8eb5-4dc6-8602-9c5291e81f31",
   "metadata": {},
   "outputs": [
    {
     "name": "stdout",
     "output_type": "stream",
     "text": [
      "      Emp  ID\n",
      "0     Uma  10\n",
      "2  Sindhu  30\n",
      "3    Ravi  40\n"
     ]
    }
   ],
   "source": [
    "print(result.drop(1))"
   ]
  },
  {
   "cell_type": "code",
   "execution_count": null,
   "id": "eb4a50fc-8a5f-4163-9cea-7c5e6998baa6",
   "metadata": {},
   "outputs": [],
   "source": []
  }
 ],
 "metadata": {
  "kernelspec": {
   "display_name": "Python 3 (ipykernel)",
   "language": "python",
   "name": "python3"
  },
  "language_info": {
   "codemirror_mode": {
    "name": "ipython",
    "version": 3
   },
   "file_extension": ".py",
   "mimetype": "text/x-python",
   "name": "python",
   "nbconvert_exporter": "python",
   "pygments_lexer": "ipython3",
   "version": "3.12.7"
  }
 },
 "nbformat": 4,
 "nbformat_minor": 5
}
