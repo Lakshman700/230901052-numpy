{
 "cells": [
  {
   "cell_type": "code",
   "execution_count": 15,
   "id": "9804670a-b39a-4cdf-834c-51a3f88357bf",
   "metadata": {},
   "outputs": [
    {
     "name": "stdout",
     "output_type": "stream",
     "text": [
      "[[20 40 50 70 10]]\n",
      "[[6 2 9 7 2]]\n",
      "[[26 42 59 77 12]]\n",
      "[[14 38 41 63  8]]\n",
      "[[120  80 450 490  20]]\n",
      "[[ 3.33333333 20.          5.55555556 10.          5.        ]]\n"
     ]
    }
   ],
   "source": [
    "#vector operation\n",
    "import numpy as np\n",
    "arr1=[20,40,50,70,10]\n",
    "arr2=[6,2,9,7,2]\n",
    "a=np.array([arr1])\n",
    "b=np.array([arr2])\n",
    "print(a)\n",
    "print(b)\n",
    "print(a+b)\n",
    "print(a-b)\n",
    "print(a*b)\n",
    "print(a/b)"
   ]
  },
  {
   "cell_type": "code",
   "execution_count": 23,
   "id": "6b5b35f7-c860-468e-9b45-f099daea4baf",
   "metadata": {},
   "outputs": [
    {
     "name": "stdout",
     "output_type": "stream",
     "text": [
      "1190\n",
      "Scalar value: 3\n",
      "Array: [20 40 50 70 10]\n",
      "result: [ 60 120 150 210  30]\n"
     ]
    }
   ],
   "source": [
    "import numpy as np\n",
    "a=np.array([20,40,50,70,10])\n",
    "b=np.array([6,2,7,9,1])\n",
    "print(a.dot(b))\n",
    "sclr=3\n",
    "print(\"Scalar value:\",sclr)\n",
    "print(\"Array:\",a)\n",
    "print(\"result:\",a*sclr)\n",
    "\n"
   ]
  },
  {
   "cell_type": "code",
   "execution_count": 25,
   "id": "afa63ed0-7a99-4f2a-aa52-04dd4a053c91",
   "metadata": {},
   "outputs": [
    {
     "name": "stdout",
     "output_type": "stream",
     "text": [
      "[[1 6]\n",
      " [0 4]]\n"
     ]
    }
   ],
   "source": [
    "import numpy as np\n",
    "a=np.array(([10,20],[30,40]))\n",
    "b=np.array(([3,7],[5,9]))\n",
    "print(a%b)"
   ]
  },
  {
   "cell_type": "code",
   "execution_count": 37,
   "id": "208c2a7a-f24c-49df-8b5f-580876947ad3",
   "metadata": {},
   "outputs": [
    {
     "name": "stdout",
     "output_type": "stream",
     "text": [
      "Array1 [10, 7, 2]\n",
      "Array2 [6, 5, 3]\n",
      "result: [4 2 5]\n"
     ]
    }
   ],
   "source": [
    "def my_func(x,y):\n",
    "    if x>y:\n",
    "        return x-y\n",
    "    else:\n",
    "        return x+y\n",
    "arr1=[10,7,2]\n",
    "arr2=[6,5,3]\n",
    "vect_func=np.vectorize(my_func)\n",
    "print(\"Array1\",arr1)\n",
    "print(\"Array2\",arr2)\n",
    "print(\"result:\",vect_func(arr1,arr2))"
   ]
  },
  {
   "cell_type": "code",
   "execution_count": null,
   "id": "d9380a42-cb42-42e0-99cf-70f382fc7438",
   "metadata": {},
   "outputs": [],
   "source": []
  }
 ],
 "metadata": {
  "kernelspec": {
   "display_name": "Python 3 (ipykernel)",
   "language": "python",
   "name": "python3"
  },
  "language_info": {
   "codemirror_mode": {
    "name": "ipython",
    "version": 3
   },
   "file_extension": ".py",
   "mimetype": "text/x-python",
   "name": "python",
   "nbconvert_exporter": "python",
   "pygments_lexer": "ipython3",
   "version": "3.12.7"
  }
 },
 "nbformat": 4,
 "nbformat_minor": 5
}
